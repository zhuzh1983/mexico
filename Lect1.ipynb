{
 "cells": [
  {
   "cell_type": "markdown",
   "metadata": {},
   "source": [
    "# Lectures at Morelia, Mexico\n",
    "\n",
    "# 1 Python Basics\n",
    "## 1.1 Python Installation\n",
    "\n",
    "## Conda\n",
    "The best way set-up an scientific Python environment is to use the cross-platform package manager conda from Continuum Analytics. First download and install miniconda http://conda.pydata.org/miniconda.html or Anaconda (see below, download Mac or Windows version depending on your operation system). Next, to install the required libraries for these notebooks, simply run following at your anaconda terminal :\n",
    "\n",
    "\t$ conda install jupyter spyder numpy scipy sympy matplotlib cython \n",
    "    \n",
    "    \n",
    "After you installed jupyter, you could run it from the anaconda terminal \n",
    "\n",
    "    $ jupyter notebook\n",
    "    \n",
    "Then you can type python command and save it to your notebook"
   ]
  },
  {
   "cell_type": "code",
   "execution_count": 1,
   "metadata": {},
   "outputs": [
    {
     "name": "stdout",
     "output_type": "stream",
     "text": [
      "Welcome to Python\n"
     ]
    }
   ],
   "source": [
    "#get started\n",
    "print(\"Welcome to Python\")"
   ]
  },
  {
   "cell_type": "markdown",
   "metadata": {},
   "source": [
    "## 1.2 Variables \n",
    "  The Rules\n",
    "  * Variables names must start with a letter or an underscore, such as:  \n",
    "    \\_underscore  \n",
    "    underscore\\_  \n",
    "  * The remainder of your variable name may consist of letters, numbers and underscores.  \n",
    "    password1  \n",
    "    n00b  \n",
    "    un_der_scores  \n",
    "  * Names are case sensitive.  \n",
    "    case_sensitive, CASE_SENSITIVE, and Case_Sensitive are each a different variable.  \n",
    "\n",
    "By convention, variable names start with a lower-case letter, and Class names start with a capital letter.  \n",
    "  In addition, there are a number of Python keywords that cannot be used as variable names.   \n",
    "  e.g. False, except, if, and, as, assert, print......  "
   ]
  },
  {
   "cell_type": "code",
   "execution_count": 2,
   "metadata": {},
   "outputs": [],
   "source": [
    "# variable assignments with =\n",
    "# different from C/fortran, no need to specify the type of a varialbe, dynamically typed language\n",
    "\n",
    "x=1."
   ]
  },
  {
   "cell_type": "code",
   "execution_count": 3,
   "metadata": {},
   "outputs": [
    {
     "name": "stdout",
     "output_type": "stream",
     "text": [
      "1.0 <class 'float'>\n"
     ]
    }
   ],
   "source": [
    "print(x, type(x))"
   ]
  },
  {
   "cell_type": "markdown",
   "metadata": {},
   "source": [
    "Data Types  \n",
    "    Python has 5 data types  \n",
    "    * Numbers\n",
    "    * String\n",
    "    * List\n",
    "    * Tuple\n",
    "    * Dictionary\n"
   ]
  },
  {
   "cell_type": "code",
   "execution_count": 13,
   "metadata": {},
   "outputs": [],
   "source": [
    "# Numbers:\n",
    "# integers\n",
    "# float\n",
    "# bollean\n",
    "# complex\n",
    "a = 3\n",
    "b = 3.0\n",
    "c = True\n",
    "d = 3.+3.j"
   ]
  },
  {
   "cell_type": "code",
   "execution_count": 14,
   "metadata": {},
   "outputs": [
    {
     "name": "stdout",
     "output_type": "stream",
     "text": [
      "3 <class 'int'>\n",
      "3.0 <class 'float'>\n",
      "True <class 'bool'>\n",
      "(3+3j) <class 'complex'>\n"
     ]
    }
   ],
   "source": [
    "print(a, type(a))\n",
    "print(b, type(b))\n",
    "print(c, type(c))\n",
    "print(d, type(d))"
   ]
  },
  {
   "cell_type": "code",
   "execution_count": 15,
   "metadata": {},
   "outputs": [
    {
     "name": "stdout",
     "output_type": "stream",
     "text": [
      "welcome <class 'str'>\n"
     ]
    }
   ],
   "source": [
    "# String\n",
    "a = \"welcome\"\n",
    "print(a, type(a))"
   ]
  },
  {
   "cell_type": "code",
   "execution_count": 28,
   "metadata": {},
   "outputs": [
    {
     "name": "stdout",
     "output_type": "stream",
     "text": [
      "list index 2 = 3.4\n",
      "list index -1 =  4.5\n",
      "list index 2 to the end =  [3.4, 4.5]\n",
      "list index 0 to 2 =  [1, 'Hello', 3.4]\n"
     ]
    }
   ],
   "source": [
    "# List:\n",
    "# empty list\n",
    "my_list = []\n",
    "\n",
    "# list of integers\n",
    "my_list = [1, 2, 3]\n",
    "\n",
    "# list with mixed datatypes\n",
    "my_list = [1, \"Hello\", 3.4, 4.5]\n",
    "\n",
    "# access list through index, the index starts with 0\n",
    "print(\"list index 2 =\",my_list[2])\n",
    "\n",
    "# the index can be negative\n",
    "print(\"list index -1 = \",my_list[-1])\n",
    "\n",
    "# or you can select several elements in the list using colon\n",
    "print(\"list index 2 to the end = \",my_list[2:])\n",
    "print(\"list index 0 to 2 = \",my_list[0:3]) # note that 0:3 only select 0,1,2 index"
   ]
  },
  {
   "cell_type": "code",
   "execution_count": 29,
   "metadata": {},
   "outputs": [
    {
     "name": "stdout",
     "output_type": "stream",
     "text": [
      "[1, 2, 3, 4, 5]\n"
     ]
    }
   ],
   "source": [
    "# List are mutable, unlike string and tuple\n",
    "array=[1,3,2,5,5]\n",
    "\n",
    "# change the forth element\n",
    "array[3]=4\n",
    "\n",
    "# change the second and third elements\n",
    "array[1:3]=[2,3] # notice that 1:3 selects index 1,2\n",
    "\n",
    "print(array)"
   ]
  },
  {
   "cell_type": "code",
   "execution_count": 31,
   "metadata": {},
   "outputs": [
    {
     "name": "stdout",
     "output_type": "stream",
     "text": [
      "[1, 2, 3, 4, 5, 6, 6]\n",
      "[2, 3, 4, 5, 6, 6]\n"
     ]
    }
   ],
   "source": [
    "# add and delete element\n",
    "array.append(6)\n",
    "print(array)\n",
    "del array[0]\n",
    "print (array)"
   ]
  },
  {
   "cell_type": "code",
   "execution_count": 32,
   "metadata": {},
   "outputs": [
    {
     "name": "stdout",
     "output_type": "stream",
     "text": [
      "[1, 2, 4, 8, 16, 32, 64, 128, 256, 512]\n"
     ]
    }
   ],
   "source": [
    "#Fancy way to create a list: List Comprehension\n",
    "pow2 = [2 ** x for x in range(10)]\n",
    "print(pow2)\n"
   ]
  },
  {
   "cell_type": "markdown",
   "metadata": {},
   "source": [
    "##  1.3 Operators and comparisons\n",
    "Normal definition:\n",
    "\n",
    "Arithmetic operators +, -, $*$, /, % (modulus), // (floor division), $**$ (power)"
   ]
  },
  {
   "cell_type": "code",
   "execution_count": 41,
   "metadata": {},
   "outputs": [
    {
     "name": "stdout",
     "output_type": "stream",
     "text": [
      "x + y = 17\n",
      "x - y = 11\n",
      "x * y = 42\n",
      "x / y = 4.666666666666667\n",
      "x // y = 4\n",
      "x ** y = 2744\n"
     ]
    }
   ],
   "source": [
    "x = 14\n",
    "y = 3\n",
    "\n",
    "# Output: x + y = 17\n",
    "print('x + y =',x+y)\n",
    "\n",
    "# Output: x - y = 11\n",
    "print('x - y =',x-y)\n",
    "\n",
    "# Output: x * y = 42\n",
    "print('x * y =',x*y)\n",
    "\n",
    "# Output: x / y = 4.67\n",
    "print('x / y =',x/y)\n",
    "\n",
    "# Output: x // y = 4 \n",
    "# division into integer adjusted to the left in the number line, note negative number)\n",
    "print('x // y =',x//y)\n",
    "\n",
    "# Output: x ** y = 2744\n",
    "print('x ** y =',x**y)"
   ]
  },
  {
   "cell_type": "code",
   "execution_count": 42,
   "metadata": {},
   "outputs": [
    {
     "name": "stdout",
     "output_type": "stream",
     "text": [
      "x > y  is False\n",
      "x < y  is True\n",
      "x == y is False\n",
      "x != y is True\n",
      "x >= y is False\n",
      "x <= y is True\n"
     ]
    }
   ],
   "source": [
    "# Comparison operators\n",
    "\n",
    "x = 10\n",
    "y = 12\n",
    "\n",
    "# Output: x > y is False\n",
    "print('x > y  is',x>y)\n",
    "\n",
    "# Output: x < y is True\n",
    "print('x < y  is',x<y)\n",
    "\n",
    "# Output: x == y is False\n",
    "print('x == y is',x==y)\n",
    "\n",
    "# Output: x != y is True\n",
    "print('x != y is',x!=y)\n",
    "\n",
    "# Output: x >= y is False\n",
    "print('x >= y is',x>=y)\n",
    "\n",
    "# Output: x <= y is True\n",
    "print('x <= y is',x<=y)"
   ]
  },
  {
   "cell_type": "code",
   "execution_count": 43,
   "metadata": {},
   "outputs": [
    {
     "name": "stdout",
     "output_type": "stream",
     "text": [
      "x and y is False\n",
      "x or y is True\n",
      "not x is False\n"
     ]
    }
   ],
   "source": [
    "# Logical operators\n",
    "\n",
    "x = True\n",
    "y = False\n",
    "\n",
    "# Output: x and y is False\n",
    "print('x and y is',x and y)\n",
    "\n",
    "# Output: x or y is True\n",
    "print('x or y is',x or y)\n",
    "\n",
    "# Output: not x is False\n",
    "print('not x is',not x)"
   ]
  },
  {
   "cell_type": "code",
   "execution_count": 44,
   "metadata": {},
   "outputs": [
    {
     "name": "stdout",
     "output_type": "stream",
     "text": [
      "True\n",
      "False\n"
     ]
    }
   ],
   "source": [
    "# membership operators: in, not in\n",
    "a=[1,2,3,4]\n",
    "print(1 in a)\n",
    "print(1 not in a)"
   ]
  },
  {
   "cell_type": "markdown",
   "metadata": {},
   "source": [
    "# 2. Using matplotlib to make plots\n",
    "\n",
    "Powerful plotting package. Most commonly used python plotting tool. Has similar commands as MATLAB. Uses the NumPy array objects to store the data to plot. Different from VPython which adds points one by one. "
   ]
  },
  {
   "cell_type": "code",
   "execution_count": 13,
   "metadata": {},
   "outputs": [
    {
     "data": {
      "image/png": "[encoded data removed]",
      "text/plain": [
       "<matplotlib.figure.Figure at 0x119425c88>"
      ]
     },
     "metadata": {},
     "output_type": "display_data"
    }
   ],
   "source": [
    "# Plot a smooth function\n",
    "\n",
    "from pylab import *           # Load Matplotlib\n",
    "\n",
    "Xmin =0.0;        Xmax = +10.0;      Npoints= 500\n",
    "DelX= (Xmax-Xmin)/Npoints                                      # Delta x\n",
    "x = arange(Xmin, Xmax, DelX)      # Form x array in range with increment \n",
    "y = sin(x)\n",
    "                                                                                     \n",
    "xlabel('x');      ylabel('f(x)');     title(' sin(x) vs x')        # labels\n",
    "text(3.85,  0.75, 'sin curve')                     # Text on plot\n",
    "plot(x, y, '-', lw=2)                                 # dash means it is a line                     \n",
    "grid(True)                                                    # Form grid\n",
    "show()                                                 # Make screen plot"
   ]
  },
  {
   "cell_type": "code",
   "execution_count": 14,
   "metadata": {},
   "outputs": [
    {
     "data": {
      "image/png": "[encoded data removed]",
      "text/plain": [
       "<matplotlib.figure.Figure at 0x11929e0b8>"
      ]
     },
     "metadata": {},
     "output_type": "display_data"
    }
   ],
   "source": [
    "# Plot data with error bars\n",
    "\n",
    "import pylab as p                           # import Matplotlib label it as p\n",
    "from numpy import *                                 # import numpy library\n",
    "\n",
    "p.title('Universe Expansion')                             # Title and labels\n",
    "p.xlabel('z')\n",
    "p.ylabel('v')\n",
    "                    \n",
    "                                                   \n",
    "x0 = array([0, 1, 2, 3, 4])                           # Data set 0 points\n",
    "y0 = array([1., 1.5, 2.2, 3.3, 4.0])\n",
    "p.plot(x0, y0, 'bo')                          # Data set 0 = blue circles\n",
    "p.plot(x0, y0, 'g')                                   # Data set 0 = line\n",
    "\n",
    "                                         \n",
    "\n",
    "err1sup = array([1.0, 0.3, 1.2, 0.4, 0.1])        # Asymmetric error bars\n",
    "err1inf = array([2.0, 0.6, 2.3, 1.8, 0.4])                    \n",
    "p.errorbar(x0, y0, [err1inf, err1sup], fmt = 'o')        # Plot error bars\n",
    "\n",
    "p.grid(True)                                                  # Grid line\n",
    "p.show()                                          # Create plot on screen"
   ]
  },
  {
   "cell_type": "markdown",
   "metadata": {},
   "source": [
    "It can also plot 3-D data.   \n",
    "Two ways:  \n",
    "1) 3-D surface  \n",
    "2) 2-D color contour"
   ]
  },
  {
   "cell_type": "code",
   "execution_count": 15,
   "metadata": {},
   "outputs": [
    {
     "data": {
      "image/png": "[encoded data removed]",
      "text/plain": [
       "<matplotlib.figure.Figure at 0x1192af2b0>"
      ]
     },
     "metadata": {},
     "output_type": "display_data"
    }
   ],
   "source": [
    "# Plot the potential of a point mass\n",
    "\n",
    "import matplotlib.pylab  as p                                     \n",
    "from mpl_toolkits.mplot3d import Axes3D        \n",
    "\n",
    "# to make 3-D plot, need Axes3D package from matplot tool kit\n",
    "\n",
    "\n",
    "delta = 0.1\n",
    "x = p.arange( -3., 3., delta )\n",
    "y = p.arange( -3., 3., delta )\n",
    "X, Y = p.meshgrid(x, y)                 # set coordinate grid matrix, X, Y are 2D array\n",
    "smooth = 0.3                            # smoothing length to avoid singularity\n",
    "Z = -1./p.sqrt(X*X+Y*Y+smooth*smooth)                               # Surface height\n",
    "\n",
    "fig = p.figure()                                    # Create figure\n",
    "#ax = Axes3D(fig)                                      # Plots axes\n",
    "ax = fig.add_subplot(2,2,1,projection='3d')          # the 2 by 2, 4 subplots, the first one\n",
    "ax.plot_surface(X, Y, Z)                            # Surface\n",
    "ax.plot_wireframe(X, Y, Z, color = 'r')               # Add wireframe\n",
    "ax.set_xlabel('X')\n",
    "ax.set_ylabel('Y')\n",
    "ax.set_zlabel('Z')\n",
    "\n",
    "ax = fig.add_subplot(2,2,3)\n",
    "levels=p.arange(Z.min(),Z.max(),(Z.max() - Z.min())/100.)\n",
    "CS=p.contour(x,y,Z, levels=levels)\n",
    "p.xlabel('X')\n",
    "p.ylabel('Y')\n",
    "p.colorbar(CS)\n",
    "\n",
    "p.show()                                             # Output figure"
   ]
  },
  {
   "cell_type": "markdown",
   "metadata": {},
   "source": [
    "# 3. Input and Output (I/O)\n",
    "\n",
    "Output:  \n",
    " 1 .  C way: print command"
   ]
  },
  {
   "cell_type": "code",
   "execution_count": 16,
   "metadata": {},
   "outputs": [
    {
     "name": "stdout",
     "output_type": "stream",
     "text": [
      "a= 1 , b= 2\n",
      "a=1, b=2\n"
     ]
    }
   ],
   "source": [
    "# Output, print command\n",
    "\n",
    "a=1\n",
    "b=2\n",
    "print('a=',a,', b=',b) # no difference between 'a' and \"a\" (single and double quotation), the default seperation is the white space\n",
    "print('a=',a,', b=',b,sep='') # change the default seperation, here no seperation"
   ]
  },
  {
   "cell_type": "code",
   "execution_count": 17,
   "metadata": {},
   "outputs": [
    {
     "name": "stdout",
     "output_type": "stream",
     "text": [
      "John: 3 grade, midterm exam: 98.000, final exam:   9.6e+01\n",
      "\n"
     ]
    }
   ],
   "source": [
    "# Old printf way\n",
    "print(\"John: %d grade, midterm exam: %6.3f, final exam: %9.1e\\n\" % (3, 98., 95.5))\n",
    "#    --------------format string---------------------string modulo operator----Tuple--\n",
    "\n",
    "#  %d for integer\n",
    "#  %s for string\n",
    "#  %a.bf, or %a.be for the floating point number\n",
    "#   a is the total spaces needed and b is the total digits after the decimal point"
   ]
  },
  {
   "cell_type": "markdown",
   "metadata": {},
   "source": [
    " 2 .  Python format way"
   ]
  },
  {
   "cell_type": "code",
   "execution_count": 18,
   "metadata": {},
   "outputs": [
    {
     "data": {
      "text/plain": [
       "'John:     3 grade, midterm exam: 98.000, final exam:   9.6e+01'"
      ]
     },
     "execution_count": 18,
     "metadata": {},
     "output_type": "execute_result"
    }
   ],
   "source": [
    "# New python format way\n",
    "\"John: {0:5d} grade, midterm exam: {1:6.3f}, final exam: {2:9.1e}\".format(3, 98., 95.5) \n",
    "# template.fomat(arguments), the curly braces in the template will be substituted with the value from arguments\n",
    "# 0, 1, 2 in the curly braces are the position parameter \n"
   ]
  },
  {
   "cell_type": "code",
   "execution_count": 19,
   "metadata": {},
   "outputs": [
    {
     "data": {
      "text/plain": [
       "'John: 3 grade, midterm exam: 98.0, final exam: 95.5'"
      ]
     },
     "execution_count": 19,
     "metadata": {},
     "output_type": "execute_result"
    }
   ],
   "source": [
    "\"John: {} grade, midterm exam: {}, final exam: {}\".format(3, 98., 95.5)  # default position and format"
   ]
  },
  {
   "cell_type": "code",
   "execution_count": 20,
   "metadata": {},
   "outputs": [
    {
     "data": {
      "text/plain": [
       "\"John:     3 grade, midterm exam: 98.000, 'final exam:'   9.6e+01\""
      ]
     },
     "execution_count": 20,
     "metadata": {},
     "output_type": "execute_result"
    }
   ],
   "source": [
    "\"John: {a:5d} grade, midterm exam: {b:6.3f}, \\'final exam:\\' {c:9.1e}\".format(a=3, b=98., c=95.5)  #use keyword parameter"
   ]
  },
  {
   "cell_type": "code",
   "execution_count": 21,
   "metadata": {},
   "outputs": [
    {
     "data": {
      "text/plain": [
       "'John:     3 grade, midterm exam: 98.000, final exam:   9.6e+01'"
      ]
     },
     "execution_count": 21,
     "metadata": {},
     "output_type": "execute_result"
    }
   ],
   "source": [
    "a=3\n",
    "b=98.\n",
    "c=95.5\n",
    "\"John: {:5d} grade, midterm exam: {:6.3f}, final exam: {:9.1e}\".format(a,b,c) # default position"
   ]
  },
  {
   "cell_type": "markdown",
   "metadata": {},
   "source": [
    "Input  \n",
    "\n",
    "1 . Input from Keyboard  \n",
    "      Input function"
   ]
  },
  {
   "cell_type": "code",
   "execution_count": 23,
   "metadata": {},
   "outputs": [
    {
     "name": "stdout",
     "output_type": "stream",
     "text": [
      "name, midterm, finaljoe 90 20\n",
      "The student joe got  90.00 for the mid-exam and  20.00 for the final exam\n",
      "<class 'float'>\n"
     ]
    }
   ],
   "source": [
    "student1 = input(\"name, midterm, final\") # read in a string\n",
    "[name, mid, final]=student1.split() # split the string to name, midterm and final\n",
    "mid,final=[float(mid),float(final)] # change the string to the float type\n",
    "print(\"The student %s got %6.2f for the mid-exam and %6.2f for the final exam\" % (name,mid,final))\n",
    "print(type(mid))"
   ]
  },
  {
   "cell_type": "markdown",
   "metadata": {},
   "source": [
    "\n",
    "2 .  reading from a file, \n",
    "\n",
    "     1.1 strings\n",
    "     suppose test.dat is 'Monday\\nTuesday\\nWednesday\\nThursday\\nFriday\\nSaturday\\nSunday\\n'   \n",
    "\n",
    "     f=open('test.dat','r')  \n",
    "     f.read()  # read the entire file 'Monday\\nTuesday\\nWednesday\\nThursday\\nFriday\\nSaturday\\nSunday\\n'  \n",
    "     \n",
    "     or  f.readline()  # just read one line 'Monday\\n'  \n",
    "     \n",
    "     or  f.readlines() # each line is read seperately ['Monday\\n', 'Tuesday\\n', 'Wednesday\\n', 'Thursday\\n', 'Friday\\n', 'Saturday\\n', 'Sunday\\n']\n",
    "     \n",
    "     1.2 numbers\n",
    "     suppose test.dat is '1 2 3 \\n 4 5 6 \\n 7 8 9'\n",
    "     \n",
    "     with open('test.dat') as f:\n",
    "        for line in f:  #line is a string\n",
    "           #split the string on whitespace, return a list of numbers (as strings)\n",
    "           numbers_str = line.split()\n",
    "           #convert numbers to floats\n",
    "           numbers_float = [float(x) for x in numbers_str]  #map(float,numbers_str) works too"
   ]
  },
  {
   "cell_type": "code",
   "execution_count": 24,
   "metadata": {},
   "outputs": [
    {
     "name": "stdout",
     "output_type": "stream",
     "text": [
      "1 2 3\n",
      "\n",
      "['1', '2', '3']\n",
      "[1.0, 2.0, 3.0]\n",
      "4 5 6\n",
      "\n",
      "['4', '5', '6']\n",
      "[4.0, 5.0, 6.0]\n",
      "7 8 9\n",
      "\n",
      "['7', '8', '9']\n",
      "[7.0, 8.0, 9.0]\n"
     ]
    }
   ],
   "source": [
    "with open('test.dat') as f:\n",
    "    for line in f:\n",
    "        print(line)\n",
    "        str=line.split()\n",
    "        print(str)\n",
    "        num=[float(x) for x in str]\n",
    "        print(num)"
   ]
  },
  {
   "cell_type": "markdown",
   "metadata": {},
   "source": [
    "# Exercise: \n",
    "\n",
    "We will study the properties of a protoplanetary disk which is gravitationally unsable. \n",
    "\n",
    "A disk is gravitationally unstable if the Toomre Q parameter is close to 1\n",
    "\\begin{equation}\n",
    "Q=\\frac{c_{s}\\Omega}{\\pi G \\Sigma}\n",
    "\\end{equation}\n",
    "where $c_{s}$, $\\Omega$, $\\Sigma$ are the sound speed, rotational frequency, and disk surface density\n",
    "at the disk radius R.\n",
    "\n",
    "To estimate the sound speed at $R$, we can assume that 10\\% of the stellar irradiation \n",
    "has reached to the disk surface perpendicularly, so that the disk temperature is\n",
    "\\begin{equation}\n",
    "\\sigma T_{disk}^4=\\frac{0.1 L_{sun}}{4\\pi R^2}\n",
    "\\end{equation}\n",
    "In the following exercise, we assume solar mass star with solar luminosity.\n",
    "\n",
    "1) Please calculate and plot the disk temperature along the radii from 1 to 100 AU.\n",
    "\n",
    "2) The minimum mass solar nebulae has a surface density of\n",
    "\\begin{equation}\n",
    "\\Sigma=1700 g cm^{-2} (R/AU)^{-1.5}\n",
    "\\end{equation}\n",
    "Please calculate and plot the Q parameter in this presolar disk from 1 to 100 AU.\n",
    "If the disk extends beyond 100 AU, will our presolar disk be gravitationally unstable?\n",
    "\n",
    "3) Assume a protostellar disk is very mass, and gravitationally unstable from 1 to 100 AU.\n",
    "Please calculate and plot the disk surface density.\n",
    "If you integrate the disk mass, what is the disk to star mass ratio. \n",
    "\n",
    "4) For a Q=1 disk, the most unstable length scale is $H=c_{s}/\\Omega$. Calculate\n",
    "the total disk mass for this fragmented clump (M=$H^2\\times\\Sigma$) if the clump\n",
    "forms at 10, 50 AU, and 100 AU.\n",
    "\n",
    "5) Assume that the clump collapses to a planet, the planet will accrete material in the protoplanetary\n",
    "disk within the planet's Hill radius ($R_{H}=R(M_{p}/(3M_{*}))^{1/3}$). The accretion rate\n",
    "can be estimated by considering the shear flow around the planet. The rate is\n",
    "\\begin{equation}\n",
    "\\dot{M}=4\\Sigma\\Omega R_{H}^2\n",
    "\\end{equation}\n",
    "Please calculate the accretion rate if the planet is 1 and 10 $M_{J}$. How long does it take\n",
    "for the planet to become a solar mass star.\n",
    "\n",
    "6) The clump/planet will migrate in such disks. \n",
    "The migration timescale is\n",
    "\\begin{equation}\n",
    "\\tau_{mig}=\\frac{c_{s}^2}{20 R^2\\Omega^2 q\\mu}\\frac{2\\pi}{\\Omega}\n",
    "\\end{equation}\n",
    "where $q=M_{p}/M_{*}$ and $\\mu=\\pi\\Sigma(R) R^2/M_{*}$.\n",
    "Please calculate the migration scale for a 1 $M_{J}$  and 10 $M_{J}$ planet at 50 and 100 AU.\n",
    "\n",
    "In the highly gravitationally unstable disk, a jupiter mass planet cannot open a gap. \n",
    "But eventually, with the planet mass going up and planet migrating inwards, it will open a gap\n",
    "and stops migration. In Zhu \\etal 2012\n",
    "http://adsabs.harvard.edu/abs/2012ApJ...746..110Z,\n",
    "we continue these calculations and \n",
    "argue that considering all above effects, gravitationally unstable disks are likely to form binary stars\n",
    "instead of giant planets. If you want to know more on the calculation and numerical simulations, please\n",
    "check out the paper."
   ]
  },
  {
   "cell_type": "code",
   "execution_count": null,
   "metadata": {},
   "outputs": [],
   "source": []
  }
 ],
 "metadata": {
  "kernelspec": {
   "display_name": "Python 3",
   "language": "python",
   "name": "python3"
  },
  "language_info": {
   "codemirror_mode": {
    "name": "ipython",
    "version": 3
   },
   "file_extension": ".py",
   "mimetype": "text/x-python",
   "name": "python",
   "nbconvert_exporter": "python",
   "pygments_lexer": "ipython3",
   "version": "3.6.3"
  }
 },
 "nbformat": 4,
 "nbformat_minor": 2
}
